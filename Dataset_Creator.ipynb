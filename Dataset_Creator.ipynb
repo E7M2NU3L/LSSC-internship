{
 "cells": [
  {
   "cell_type": "code",
   "execution_count": 1,
   "id": "6954baf0",
   "metadata": {},
   "outputs": [],
   "source": [
    "import cv2\n",
    "import os"
   ]
  },
  {
   "cell_type": "code",
   "execution_count": 12,
   "id": "e1beb831",
   "metadata": {},
   "outputs": [],
   "source": [
    "def extract_frames(video_path, output_path, target_shape=(64, 64, 3)):\n",
    "    # Create output directory if it doesn't exist\n",
    "    if not os.path.exists(output_path):\n",
    "        os.makedirs(output_path)\n",
    "\n",
    "    # Read the video file\n",
    "    video = cv2.VideoCapture(video_path)\n",
    "    frame_count = 0\n",
    "\n",
    "    while True:\n",
    "        # Read the next frame\n",
    "        ret, frame = video.read()\n",
    "\n",
    "        if not ret:\n",
    "            break\n",
    "\n",
    "        # Resize the frame to the target shape\n",
    "        resized_frame = cv2.resize(frame, target_shape[:2])\n",
    "\n",
    "        # Save the frame as an image\n",
    "        frame_filename = f\"frame_{frame_count}14.jpg\"\n",
    "        frame_path = os.path.join(output_path, frame_filename)\n",
    "        cv2.imwrite(frame_path, resized_frame)\n",
    "\n",
    "        frame_count += 1\n",
    "\n",
    "    # Release the video capture object\n",
    "    video.release()\n",
    "\n",
    "    print(f\"Frames extracted: {frame_count}\")\n",
    "    print(f\"Output directory: {output_path}\")"
   ]
  },
  {
   "cell_type": "code",
   "execution_count": 14,
   "id": "3ce7e983",
   "metadata": {},
   "outputs": [
    {
     "name": "stdout",
     "output_type": "stream",
     "text": [
      "Frames extracted: 243\n",
      "Output directory: D:/Python Projects/Leather defect detection/Leather Detection/Output_dataset\n"
     ]
    }
   ],
   "source": [
    "# Example usage\n",
    "video_file = \"C:/Users/USER/Documents/Python Projects/Leather defect detection/Leather Detection/Input_Videos/New (5).mp4\"\n",
    "output_directory = \"D:/Python Projects/Leather defect detection/Leather Detection/Output_dataset\"\n",
    "target_shape = (480,480 , 3)\n",
    "extract_frames(video_file, output_directory, target_shape)"
   ]
  },
  {
   "cell_type": "code",
   "execution_count": null,
   "id": "6da78a58",
   "metadata": {},
   "outputs": [],
   "source": []
  }
 ],
 "metadata": {
  "kernelspec": {
   "display_name": "Python 3 (ipykernel)",
   "language": "python",
   "name": "python3"
  },
  "language_info": {
   "codemirror_mode": {
    "name": "ipython",
    "version": 3
   },
   "file_extension": ".py",
   "mimetype": "text/x-python",
   "name": "python",
   "nbconvert_exporter": "python",
   "pygments_lexer": "ipython3",
   "version": "3.10.9"
  }
 },
 "nbformat": 4,
 "nbformat_minor": 5
}
